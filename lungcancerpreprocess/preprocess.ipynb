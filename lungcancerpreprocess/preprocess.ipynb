{
 "cells": [
  {
   "cell_type": "code",
   "execution_count": null,
   "metadata": {},
   "outputs": [],
   "source": [
    "# Import necessary libraries\n",
    "import pandas as pd\n",
    "from sklearn.preprocessing import StandardScaler, LabelEncoder\n",
    "\n",
    "# Load the dataset\n",
    "file_path = r'C:\\Users\\Srinjoy RayChaudhuri\\Hackathon work\\lung cancer data set.csv.csv'\n",
    "data = pd.read_csv(file_path)\n"
   ]
  },
  {
   "cell_type": "code",
   "execution_count": null,
   "metadata": {},
   "outputs": [],
   "source": [
    "# Display the first few rows to understand the data structure\n",
    "print(\"Initial data snapshot:\\n\", data.head())"
   ]
  },
  {
   "cell_type": "code",
   "execution_count": null,
   "metadata": {},
   "outputs": [],
   "source": [
    "# 1. Drop unnecessary columns\n",
    "# Dropping 'index' and 'Patient Id' as they are unique identifiers and don't provide predictive value.\n",
    "data = data.drop(['index', 'Patient Id'], axis=1)"
   ]
  },
  {
   "cell_type": "code",
   "execution_count": null,
   "metadata": {},
   "outputs": [],
   "source": [
    "# 2. Handle missing values\n",
    "# Filling missing values with the mean for numerical columns, and mode for categorical columns\n",
    "for column in data.columns:\n",
    "    if data[column].dtype == 'object':\n",
    "        data[column].fillna(data[column].mode()[0], inplace=True)\n",
    "    else:\n",
    "        data[column].fillna(data[column].mean(), inplace=True)"
   ]
  },
  {
   "cell_type": "code",
   "execution_count": null,
   "metadata": {},
   "outputs": [],
   "source": [
    "# 3. Encode categorical features\n",
    "# 'Gender' and 'Level' are categorical; we'll encode 'Level' as the target variable\n",
    "# Label encode 'Level' (target variable)\n",
    "le = LabelEncoder()\n",
    "data['Level'] = le.fit_transform(data['Level'])  # Encoding 'Low', 'Medium', 'High' to numerical\n",
    "\n",
    "# Print the encoding classes to make it easier for others to interpret the output\n",
    "print(\"Label Encoding Classes for 'Level':\", dict(zip(le.classes_, le.transform(le.classes_))))\n"
   ]
  },
  {
   "cell_type": "code",
   "execution_count": null,
   "metadata": {},
   "outputs": [],
   "source": [
    "# 4. Standardize the numerical features\n",
    "# Initialize the scaler\n",
    "scaler = StandardScaler()"
   ]
  },
  {
   "cell_type": "code",
   "execution_count": null,
   "metadata": {},
   "outputs": [],
   "source": [
    "# Identifying numeric columns for scaling\n",
    "numeric_features = data.select_dtypes(include=['int64', 'float64']).columns\n",
    "# Apply scaling\n",
    "data[numeric_features] = scaler.fit_transform(data[numeric_features])"
   ]
  },
  {
   "cell_type": "code",
   "execution_count": null,
   "metadata": {},
   "outputs": [],
   "source": [
    "# 5. Verify the preprocessed data\n",
    "print(\"Preprocessed data snapshot:\\n\", data.head())"
   ]
  },
  {
   "cell_type": "code",
   "execution_count": null,
   "metadata": {},
   "outputs": [],
   "source": [
    "# 6. Save the preprocessed dataset for easy access in future work\n",
    "data.to_csv(\"lung cancer data set.csv.csv\", index=False)\n",
    "print(\"Preprocessed dataset saved as 'lung cancer data set.csv.csv'.\")"
   ]
  }
 ],
 "metadata": {
  "language_info": {
   "name": "python"
  }
 },
 "nbformat": 4,
 "nbformat_minor": 2
}
